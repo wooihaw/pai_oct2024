{
 "cells": [
  {
   "cell_type": "markdown",
   "id": "20551543",
   "metadata": {},
   "source": [
    "## Hands-on 3B\n",
    "\n",
    "#### Build a Decision Tree classifier to predict the survivality of the Titanic passengers based on the data pre-processed in Hands-on 2C."
   ]
  },
  {
   "cell_type": "code",
   "execution_count": 1,
   "id": "4f20619f",
   "metadata": {},
   "outputs": [],
   "source": [
    "# Initialization\n",
    "%matplotlib inline\n",
    "from warnings import filterwarnings\n",
    "filterwarnings('ignore')"
   ]
  },
  {
   "cell_type": "code",
   "execution_count": 2,
   "id": "a589516f",
   "metadata": {},
   "outputs": [],
   "source": [
    "# Import libraries\n",
    "from pandas import read_csv\n",
    "from sklearn.model_selection import train_test_split as split, KFold, GridSearchCV\n",
    "from sklearn.tree import DecisionTreeClassifier"
   ]
  },
  {
   "cell_type": "code",
   "execution_count": 3,
   "id": "8d8dd45c",
   "metadata": {},
   "outputs": [
    {
     "data": {
      "text/html": [
       "<div>\n",
       "<style scoped>\n",
       "    .dataframe tbody tr th:only-of-type {\n",
       "        vertical-align: middle;\n",
       "    }\n",
       "\n",
       "    .dataframe tbody tr th {\n",
       "        vertical-align: top;\n",
       "    }\n",
       "\n",
       "    .dataframe thead th {\n",
       "        text-align: right;\n",
       "    }\n",
       "</style>\n",
       "<table border=\"1\" class=\"dataframe\">\n",
       "  <thead>\n",
       "    <tr style=\"text-align: right;\">\n",
       "      <th></th>\n",
       "      <th>Pclass</th>\n",
       "      <th>Age</th>\n",
       "      <th>SibSp</th>\n",
       "      <th>Parch</th>\n",
       "      <th>Fare</th>\n",
       "      <th>Survived</th>\n",
       "      <th>Gender_female</th>\n",
       "      <th>Gender_male</th>\n",
       "    </tr>\n",
       "  </thead>\n",
       "  <tbody>\n",
       "    <tr>\n",
       "      <th>30</th>\n",
       "      <td>1</td>\n",
       "      <td>40.0</td>\n",
       "      <td>0</td>\n",
       "      <td>0</td>\n",
       "      <td>27.7208</td>\n",
       "      <td>0</td>\n",
       "      <td>False</td>\n",
       "      <td>True</td>\n",
       "    </tr>\n",
       "    <tr>\n",
       "      <th>433</th>\n",
       "      <td>3</td>\n",
       "      <td>17.0</td>\n",
       "      <td>0</td>\n",
       "      <td>0</td>\n",
       "      <td>7.1250</td>\n",
       "      <td>0</td>\n",
       "      <td>False</td>\n",
       "      <td>True</td>\n",
       "    </tr>\n",
       "    <tr>\n",
       "      <th>202</th>\n",
       "      <td>3</td>\n",
       "      <td>34.0</td>\n",
       "      <td>0</td>\n",
       "      <td>0</td>\n",
       "      <td>6.4958</td>\n",
       "      <td>0</td>\n",
       "      <td>False</td>\n",
       "      <td>True</td>\n",
       "    </tr>\n",
       "    <tr>\n",
       "      <th>219</th>\n",
       "      <td>2</td>\n",
       "      <td>30.0</td>\n",
       "      <td>0</td>\n",
       "      <td>0</td>\n",
       "      <td>10.5000</td>\n",
       "      <td>0</td>\n",
       "      <td>False</td>\n",
       "      <td>True</td>\n",
       "    </tr>\n",
       "    <tr>\n",
       "      <th>123</th>\n",
       "      <td>2</td>\n",
       "      <td>32.5</td>\n",
       "      <td>0</td>\n",
       "      <td>0</td>\n",
       "      <td>13.0000</td>\n",
       "      <td>1</td>\n",
       "      <td>True</td>\n",
       "      <td>False</td>\n",
       "    </tr>\n",
       "  </tbody>\n",
       "</table>\n",
       "</div>"
      ],
      "text/plain": [
       "     Pclass   Age  SibSp  Parch     Fare  Survived  Gender_female  Gender_male\n",
       "30        1  40.0      0      0  27.7208         0          False         True\n",
       "433       3  17.0      0      0   7.1250         0          False         True\n",
       "202       3  34.0      0      0   6.4958         0          False         True\n",
       "219       2  30.0      0      0  10.5000         0          False         True\n",
       "123       2  32.5      0      0  13.0000         1           True        False"
      ]
     },
     "execution_count": 3,
     "metadata": {},
     "output_type": "execute_result"
    }
   ],
   "source": [
    "# Read data from csv file\n",
    "df = read_csv(\"titanic_processed.csv\")\n",
    "df.sample(5)"
   ]
  },
  {
   "cell_type": "markdown",
   "id": "29fc4ef4",
   "metadata": {},
   "source": [
    "**To do:**\n",
    "- Store the features as variable X and targets as variable y\n",
    "- Split the features and targets into training and testing sets"
   ]
  },
  {
   "cell_type": "code",
   "execution_count": 4,
   "id": "ff8c33fb",
   "metadata": {},
   "outputs": [],
   "source": [
    "X = df.drop(columns=['Survived'])\n",
    "y = df['Survived']\n",
    "X_train, X_test, y_train, y_test = split(X, y, random_state=42)"
   ]
  },
  {
   "cell_type": "markdown",
   "id": "a3ffac52",
   "metadata": {},
   "source": [
    "**To do:**\n",
    "- Evaluate the performance of decision tree classifier on this dataset (using the default hyperparameter values)"
   ]
  },
  {
   "cell_type": "code",
   "execution_count": 5,
   "id": "76c5a1ce",
   "metadata": {},
   "outputs": [
    {
     "name": "stdout",
     "output_type": "stream",
     "text": [
      "dtc1 accuracy: 74.888%\n"
     ]
    }
   ],
   "source": [
    "dtc1 = DecisionTreeClassifier(random_state=42).fit(X_train, y_train)\n",
    "print(f\"dtc1 accuracy: {dtc1.score(X_test, y_test):.3%}\")"
   ]
  },
  {
   "cell_type": "markdown",
   "id": "1b29ef43",
   "metadata": {},
   "source": [
    "**To do:**\n",
    "- Use grid search to fine tune the following hyperparameters\n",
    "    * criterion ('gini' or 'entropy')\n",
    "    * max_leaf_nodes (from 2 to 20)"
   ]
  },
  {
   "cell_type": "code",
   "execution_count": 6,
   "id": "94b37bb3",
   "metadata": {},
   "outputs": [
    {
     "name": "stdout",
     "output_type": "stream",
     "text": [
      "Fitting 5 folds for each of 38 candidates, totalling 190 fits\n",
      "{'criterion': 'entropy', 'max_leaf_nodes': 8}\n"
     ]
    }
   ],
   "source": [
    "params = {}\n",
    "params['criterion'] = ['gini', 'entropy']\n",
    "params['max_leaf_nodes'] = range(2, 21)\n",
    "grid = GridSearchCV(DecisionTreeClassifier(), params, cv=5, n_jobs=-1, verbose=2)\n",
    "grid.fit(X_train, y_train)\n",
    "print(grid.best_params_)"
   ]
  },
  {
   "cell_type": "markdown",
   "id": "5efde92b",
   "metadata": {},
   "source": [
    "**To do:**\n",
    "- Train a decision tree classifier with the best set of hyperparameter values\n",
    "- Evaluate the performance of the resulting classifier"
   ]
  },
  {
   "cell_type": "code",
   "execution_count": 8,
   "id": "6a361678",
   "metadata": {},
   "outputs": [
    {
     "name": "stdout",
     "output_type": "stream",
     "text": [
      "dtc2 accuracy: 80.269%\n"
     ]
    }
   ],
   "source": [
    "dtc2 = DecisionTreeClassifier(**grid.best_params_, random_state=42).fit(X_train, y_train)\n",
    "print(f\"dtc2 accuracy: {dtc2.score(X_test, y_test):.3%}\")"
   ]
  },
  {
   "cell_type": "code",
   "execution_count": null,
   "id": "bdb287ab-db17-4fb3-b6d7-461ff4356384",
   "metadata": {},
   "outputs": [],
   "source": []
  }
 ],
 "metadata": {
  "kernelspec": {
   "display_name": "Python 3 (ipykernel)",
   "language": "python",
   "name": "python3"
  },
  "language_info": {
   "codemirror_mode": {
    "name": "ipython",
    "version": 3
   },
   "file_extension": ".py",
   "mimetype": "text/x-python",
   "name": "python",
   "nbconvert_exporter": "python",
   "pygments_lexer": "ipython3",
   "version": "3.12.4"
  }
 },
 "nbformat": 4,
 "nbformat_minor": 5
}
