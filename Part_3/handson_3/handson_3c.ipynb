{
 "cells": [
  {
   "cell_type": "markdown",
   "id": "67305e82",
   "metadata": {
    "colab_type": "text",
    "id": "view-in-github"
   },
   "source": [
    "<a href=\"https://colab.research.google.com/github/wooihaw/pai_july2024/blob/main/Part_3/handson_3/handson_3c.ipynb\" target=\"_parent\"><img src=\"https://colab.research.google.com/assets/colab-badge.svg\" alt=\"Open In Colab\"/></a>"
   ]
  },
  {
   "cell_type": "markdown",
   "id": "9acdec19",
   "metadata": {
    "id": "9acdec19"
   },
   "source": [
    "## Hands-on 3C\n",
    "#### Build 3 classification models to classify faulty steel plates. The dataset contains information about steel plates and their faults. There are 27 features and the data samples have been classified into 7 different types of steel plate faults."
   ]
  },
  {
   "cell_type": "code",
   "execution_count": 1,
   "id": "6481264f",
   "metadata": {
    "id": "6481264f",
    "tags": []
   },
   "outputs": [],
   "source": [
    "# Initialization\n",
    "%matplotlib inline\n",
    "from warnings import filterwarnings\n",
    "filterwarnings('ignore')"
   ]
  },
  {
   "cell_type": "code",
   "execution_count": 2,
   "id": "1ae13063",
   "metadata": {
    "id": "1ae13063",
    "tags": []
   },
   "outputs": [],
   "source": [
    "# Load the required libraries\n",
    "import sys\n",
    "from pandas import read_csv\n",
    "from sklearn.model_selection import train_test_split as split, KFold, cross_val_score\n",
    "from sklearn.linear_model import LogisticRegression\n",
    "from sklearn.tree import DecisionTreeClassifier\n",
    "from sklearn.neighbors import KNeighborsClassifier\n",
    "from sklearn.preprocessing import StandardScaler\n",
    "from sklearn.decomposition import PCA"
   ]
  },
  {
   "cell_type": "code",
   "execution_count": 3,
   "id": "5dbfb794",
   "metadata": {
    "id": "5dbfb794",
    "tags": []
   },
   "outputs": [],
   "source": [
    "# Load the dataset\n",
    "# Determine the environment\n",
    "is_colab = 'google.colab' in sys.modules\n",
    "\n",
    "# Execute code conditionally\n",
    "if is_colab:\n",
    "    # Code for Google Colab environment\n",
    "    df = read_csv(\"https://raw.githubusercontent.com/wooihaw/datasets/main/steel_faults.csv\")\n",
    "else:\n",
    "    # Code for local Jupyter Notebook environment\n",
    "    df = read_csv(\"steel_faults.csv\")"
   ]
  },
  {
   "cell_type": "markdown",
   "id": "f1ac88e3",
   "metadata": {
    "id": "f1ac88e3"
   },
   "source": [
    "**To do:**\n",
    "- Print 5 random data samples from the dataset"
   ]
  },
  {
   "cell_type": "code",
   "execution_count": 4,
   "id": "a3f0b6ab",
   "metadata": {
    "id": "a3f0b6ab",
    "tags": []
   },
   "outputs": [
    {
     "data": {
      "text/html": [
       "<div>\n",
       "<style scoped>\n",
       "    .dataframe tbody tr th:only-of-type {\n",
       "        vertical-align: middle;\n",
       "    }\n",
       "\n",
       "    .dataframe tbody tr th {\n",
       "        vertical-align: top;\n",
       "    }\n",
       "\n",
       "    .dataframe thead th {\n",
       "        text-align: right;\n",
       "    }\n",
       "</style>\n",
       "<table border=\"1\" class=\"dataframe\">\n",
       "  <thead>\n",
       "    <tr style=\"text-align: right;\">\n",
       "      <th></th>\n",
       "      <th>X_Minimum</th>\n",
       "      <th>X_Maximum</th>\n",
       "      <th>Y_Minimum</th>\n",
       "      <th>Y_Maximum</th>\n",
       "      <th>Pixels_Areas</th>\n",
       "      <th>X_Perimeter</th>\n",
       "      <th>Y_Perimeter</th>\n",
       "      <th>Sum_of_Luminosity</th>\n",
       "      <th>Minimum_of_Luminosity</th>\n",
       "      <th>Maximum_of_Luminosity</th>\n",
       "      <th>...</th>\n",
       "      <th>Edges_X_Index</th>\n",
       "      <th>Edges_Y_Index</th>\n",
       "      <th>Outside_Global_Index</th>\n",
       "      <th>LogOfAreas</th>\n",
       "      <th>Log_X_Index</th>\n",
       "      <th>Log_Y_Index</th>\n",
       "      <th>Orientation_Index</th>\n",
       "      <th>Luminosity_Index</th>\n",
       "      <th>SigmoidOfAreas</th>\n",
       "      <th>Fault</th>\n",
       "    </tr>\n",
       "  </thead>\n",
       "  <tbody>\n",
       "    <tr>\n",
       "      <th>1621</th>\n",
       "      <td>1101</td>\n",
       "      <td>1116</td>\n",
       "      <td>1378026</td>\n",
       "      <td>1378057</td>\n",
       "      <td>278</td>\n",
       "      <td>32</td>\n",
       "      <td>33</td>\n",
       "      <td>23817</td>\n",
       "      <td>68</td>\n",
       "      <td>103</td>\n",
       "      <td>...</td>\n",
       "      <td>0.4688</td>\n",
       "      <td>0.9394</td>\n",
       "      <td>1.0</td>\n",
       "      <td>2.4440</td>\n",
       "      <td>1.1761</td>\n",
       "      <td>1.4914</td>\n",
       "      <td>0.5161</td>\n",
       "      <td>-0.3307</td>\n",
       "      <td>0.7474</td>\n",
       "      <td>Other_Faults</td>\n",
       "    </tr>\n",
       "    <tr>\n",
       "      <th>928</th>\n",
       "      <td>129</td>\n",
       "      <td>140</td>\n",
       "      <td>970962</td>\n",
       "      <td>970972</td>\n",
       "      <td>66</td>\n",
       "      <td>14</td>\n",
       "      <td>10</td>\n",
       "      <td>7537</td>\n",
       "      <td>101</td>\n",
       "      <td>131</td>\n",
       "      <td>...</td>\n",
       "      <td>0.7857</td>\n",
       "      <td>1.0000</td>\n",
       "      <td>0.0</td>\n",
       "      <td>1.8195</td>\n",
       "      <td>1.0414</td>\n",
       "      <td>1.0000</td>\n",
       "      <td>-0.0909</td>\n",
       "      <td>-0.1078</td>\n",
       "      <td>0.2173</td>\n",
       "      <td>Bumps</td>\n",
       "    </tr>\n",
       "    <tr>\n",
       "      <th>1880</th>\n",
       "      <td>207</td>\n",
       "      <td>225</td>\n",
       "      <td>1067022</td>\n",
       "      <td>1067027</td>\n",
       "      <td>55</td>\n",
       "      <td>19</td>\n",
       "      <td>6</td>\n",
       "      <td>7484</td>\n",
       "      <td>122</td>\n",
       "      <td>150</td>\n",
       "      <td>...</td>\n",
       "      <td>0.9474</td>\n",
       "      <td>0.8333</td>\n",
       "      <td>0.0</td>\n",
       "      <td>1.7404</td>\n",
       "      <td>1.2553</td>\n",
       "      <td>0.6990</td>\n",
       "      <td>-0.7222</td>\n",
       "      <td>0.0631</td>\n",
       "      <td>0.1954</td>\n",
       "      <td>Other_Faults</td>\n",
       "    </tr>\n",
       "    <tr>\n",
       "      <th>523</th>\n",
       "      <td>89</td>\n",
       "      <td>151</td>\n",
       "      <td>2584705</td>\n",
       "      <td>2584775</td>\n",
       "      <td>1909</td>\n",
       "      <td>175</td>\n",
       "      <td>125</td>\n",
       "      <td>245067</td>\n",
       "      <td>120</td>\n",
       "      <td>140</td>\n",
       "      <td>...</td>\n",
       "      <td>0.3543</td>\n",
       "      <td>0.5600</td>\n",
       "      <td>1.0</td>\n",
       "      <td>3.2808</td>\n",
       "      <td>1.7924</td>\n",
       "      <td>1.8451</td>\n",
       "      <td>0.1143</td>\n",
       "      <td>0.0029</td>\n",
       "      <td>1.0000</td>\n",
       "      <td>K_Scatch</td>\n",
       "    </tr>\n",
       "    <tr>\n",
       "      <th>1103</th>\n",
       "      <td>751</td>\n",
       "      <td>763</td>\n",
       "      <td>424082</td>\n",
       "      <td>424112</td>\n",
       "      <td>212</td>\n",
       "      <td>38</td>\n",
       "      <td>32</td>\n",
       "      <td>23916</td>\n",
       "      <td>90</td>\n",
       "      <td>125</td>\n",
       "      <td>...</td>\n",
       "      <td>0.3158</td>\n",
       "      <td>0.9375</td>\n",
       "      <td>1.0</td>\n",
       "      <td>2.3263</td>\n",
       "      <td>1.0792</td>\n",
       "      <td>1.4771</td>\n",
       "      <td>0.6000</td>\n",
       "      <td>-0.1187</td>\n",
       "      <td>0.5951</td>\n",
       "      <td>Bumps</td>\n",
       "    </tr>\n",
       "  </tbody>\n",
       "</table>\n",
       "<p>5 rows × 28 columns</p>\n",
       "</div>"
      ],
      "text/plain": [
       "      X_Minimum  X_Maximum  Y_Minimum  Y_Maximum  Pixels_Areas  X_Perimeter  \\\n",
       "1621       1101       1116    1378026    1378057           278           32   \n",
       "928         129        140     970962     970972            66           14   \n",
       "1880        207        225    1067022    1067027            55           19   \n",
       "523          89        151    2584705    2584775          1909          175   \n",
       "1103        751        763     424082     424112           212           38   \n",
       "\n",
       "      Y_Perimeter  Sum_of_Luminosity  Minimum_of_Luminosity  \\\n",
       "1621           33              23817                     68   \n",
       "928            10               7537                    101   \n",
       "1880            6               7484                    122   \n",
       "523           125             245067                    120   \n",
       "1103           32              23916                     90   \n",
       "\n",
       "      Maximum_of_Luminosity  ...  Edges_X_Index  Edges_Y_Index  \\\n",
       "1621                    103  ...         0.4688         0.9394   \n",
       "928                     131  ...         0.7857         1.0000   \n",
       "1880                    150  ...         0.9474         0.8333   \n",
       "523                     140  ...         0.3543         0.5600   \n",
       "1103                    125  ...         0.3158         0.9375   \n",
       "\n",
       "      Outside_Global_Index  LogOfAreas  Log_X_Index  Log_Y_Index  \\\n",
       "1621                   1.0      2.4440       1.1761       1.4914   \n",
       "928                    0.0      1.8195       1.0414       1.0000   \n",
       "1880                   0.0      1.7404       1.2553       0.6990   \n",
       "523                    1.0      3.2808       1.7924       1.8451   \n",
       "1103                   1.0      2.3263       1.0792       1.4771   \n",
       "\n",
       "      Orientation_Index  Luminosity_Index  SigmoidOfAreas         Fault  \n",
       "1621             0.5161           -0.3307          0.7474  Other_Faults  \n",
       "928             -0.0909           -0.1078          0.2173         Bumps  \n",
       "1880            -0.7222            0.0631          0.1954  Other_Faults  \n",
       "523              0.1143            0.0029          1.0000      K_Scatch  \n",
       "1103             0.6000           -0.1187          0.5951         Bumps  \n",
       "\n",
       "[5 rows x 28 columns]"
      ]
     },
     "execution_count": 4,
     "metadata": {},
     "output_type": "execute_result"
    }
   ],
   "source": [
    "df.sample(5)"
   ]
  },
  {
   "cell_type": "markdown",
   "id": "c01cb8e5",
   "metadata": {
    "id": "c01cb8e5"
   },
   "source": [
    "**To do:**\n",
    "- Separate the dataset into features (X) and targets (y)"
   ]
  },
  {
   "cell_type": "code",
   "execution_count": 5,
   "id": "60dcdb69",
   "metadata": {
    "id": "60dcdb69",
    "tags": []
   },
   "outputs": [],
   "source": [
    "X = df.drop(columns=['Fault'])\n",
    "y = df['Fault']"
   ]
  },
  {
   "cell_type": "markdown",
   "id": "a354ee9c",
   "metadata": {
    "id": "a354ee9c"
   },
   "source": [
    "**To do:**\n",
    "- Evaluate the performance of k-Nearest Neighbors, Logistic Regression and Decision Tree on this dataset using 5-fold cross validation."
   ]
  },
  {
   "cell_type": "code",
   "execution_count": 7,
   "id": "89c13b59",
   "metadata": {
    "id": "89c13b59",
    "tags": []
   },
   "outputs": [
    {
     "name": "stdout",
     "output_type": "stream",
     "text": [
      "lgr: 45.594%, 2.025%\n",
      "knn: 46.368%, 3.167%\n",
      "dtc: 71.354%, 1.362%\n"
     ]
    }
   ],
   "source": [
    "# Evaluate the performance of 3 classifiers using spot-checking\n",
    "models = {}\n",
    "models['lgr'] = LogisticRegression()\n",
    "models['knn'] = KNeighborsClassifier()\n",
    "models['dtc'] = DecisionTreeClassifier()\n",
    "\n",
    "kf = KFold(n_splits=5, shuffle=True, random_state=42)\n",
    "for n in models:\n",
    "    scores = cross_val_score(models[n], X, y, cv=kf, n_jobs=-1)\n",
    "    print(f\"{n}: {scores.mean():.3%}, {scores.std():.3%}\")"
   ]
  },
  {
   "cell_type": "markdown",
   "id": "6b870137",
   "metadata": {
    "id": "6b870137"
   },
   "source": [
    "**To do:**\n",
    "- Peform feature scaling using standard scaler. Evaluate the performance of k-Nearest Neighbors, Logistic Regression and Decision Tree on the scaled features using 5-fold cross validation."
   ]
  },
  {
   "cell_type": "code",
   "execution_count": 8,
   "id": "dd8607c8",
   "metadata": {
    "id": "dd8607c8",
    "tags": []
   },
   "outputs": [
    {
     "name": "stdout",
     "output_type": "stream",
     "text": [
      "lgr: 71.302%, 3.089%\n",
      "knn: 73.983%, 2.111%\n",
      "dtc: 70.684%, 1.342%\n"
     ]
    }
   ],
   "source": [
    "scl = StandardScaler()\n",
    "Xs = scl.fit_transform(X)\n",
    "\n",
    "for n in models:\n",
    "    scores = cross_val_score(models[n], Xs, y, cv=kf, n_jobs=-1)\n",
    "    print(f\"{n}: {scores.mean():.3%}, {scores.std():.3%}\")"
   ]
  },
  {
   "cell_type": "markdown",
   "id": "29c9798a",
   "metadata": {
    "id": "29c9798a"
   },
   "source": [
    "**To do:**\n",
    "- Use Principle Component Analysis (PCA) to reduce the dimensionality of the scaled features to 13. Evaluate the performance of k-Nearest Neighbors, Logistic Regression and Decision Tree on these features using 5-fold cross validation."
   ]
  },
  {
   "cell_type": "code",
   "execution_count": 9,
   "id": "8585e37c",
   "metadata": {
    "id": "8585e37c",
    "tags": []
   },
   "outputs": [
    {
     "name": "stdout",
     "output_type": "stream",
     "text": [
      "lgr: 70.683%, 3.247%\n",
      "knn: 73.725%, 1.527%\n",
      "dtc: 64.555%, 3.034%\n"
     ]
    }
   ],
   "source": [
    "pca = PCA(n_components=13)\n",
    "Xsr = pca.fit_transform(Xs)\n",
    "\n",
    "for n in models:\n",
    "    scores = cross_val_score(models[n], Xsr, y, cv=kf, n_jobs=-1)\n",
    "    print(f\"{n}: {scores.mean():.3%}, {scores.std():.3%}\")"
   ]
  },
  {
   "cell_type": "code",
   "execution_count": null,
   "id": "b4c732c7-7f15-4059-b729-c75c34c6bf76",
   "metadata": {},
   "outputs": [],
   "source": []
  }
 ],
 "metadata": {
  "colab": {
   "include_colab_link": true,
   "provenance": []
  },
  "kernelspec": {
   "display_name": "Python 3 (ipykernel)",
   "language": "python",
   "name": "python3"
  },
  "language_info": {
   "codemirror_mode": {
    "name": "ipython",
    "version": 3
   },
   "file_extension": ".py",
   "mimetype": "text/x-python",
   "name": "python",
   "nbconvert_exporter": "python",
   "pygments_lexer": "ipython3",
   "version": "3.12.4"
  }
 },
 "nbformat": 4,
 "nbformat_minor": 5
}
